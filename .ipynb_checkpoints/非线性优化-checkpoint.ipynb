{
 "cells": [
  {
   "cell_type": "markdown",
   "id": "ca122e58-3511-4ad3-9fc9-876718562943",
   "metadata": {},
   "source": [
    "# 非线性优化"
   ]
  },
  {
   "cell_type": "markdown",
   "id": "8375f200-e26a-4a50-80b3-92412b734ddf",
   "metadata": {},
   "source": [
    "## 状态估计问题"
   ]
  },
  {
   "cell_type": "markdown",
   "id": "1f7d1c23-5cd1-4417-a9ab-ff72704b3b45",
   "metadata": {},
   "source": [
    "### 最大后验与最大似然\n",
    "\n",
    "SLAM模型由以下方程构成：\n",
    "\n",
    "$$\n",
    "\\left\\{\n",
    "\\begin{aligned}\n",
    "&x_k=f(x_{k-1},u_k)+w_k,\\\\\n",
    "&z_{k,j}=h(y_j,x_k)+v_{k,j}.\n",
    "\\end{aligned}\n",
    "\\right.\n",
    "$$\n",
    "\n",
    "$x_k$表示相机的位姿，$u_k$是状态输入，$w_k$则是扰动\n",
    "\n",
    "第二个是相机的观测方程，"
   ]
  }
 ],
 "metadata": {
  "kernelspec": {
   "display_name": "Python 3 (ipykernel)",
   "language": "python",
   "name": "python3"
  },
  "language_info": {
   "codemirror_mode": {
    "name": "ipython",
    "version": 3
   },
   "file_extension": ".py",
   "mimetype": "text/x-python",
   "name": "python",
   "nbconvert_exporter": "python",
   "pygments_lexer": "ipython3",
   "version": "3.9.12"
  },
  "toc-showcode": false,
  "toc-showmarkdowntxt": false
 },
 "nbformat": 4,
 "nbformat_minor": 5
}
