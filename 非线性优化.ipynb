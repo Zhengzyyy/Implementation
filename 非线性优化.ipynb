{
 "cells": [
  {
   "cell_type": "markdown",
   "id": "ca122e58-3511-4ad3-9fc9-876718562943",
   "metadata": {},
   "source": [
    "# 非线性优化"
   ]
  },
  {
   "cell_type": "markdown",
   "id": "8375f200-e26a-4a50-80b3-92412b734ddf",
   "metadata": {},
   "source": [
    "## 状态估计问题"
   ]
  },
  {
   "cell_type": "markdown",
   "id": "1f7d1c23-5cd1-4417-a9ab-ff72704b3b45",
   "metadata": {},
   "source": [
    "### 最大后验与最大似然\n",
    "\n",
    "SLAM模型由以下方程构成：\n",
    "​\n",
    "$$\n",
    "\\left\\{\n",
    "\\begin{aligned}\n",
    "&x_k=f(x_{k-1},u_k)+w_k,\\\\\n",
    "&z_{k,j}=h(y_j,x_k)+v_{k,j}.\n",
    "\\end{aligned}\n",
    "\\right.\n",
    "$$\n",
    "​\n",
    "$x_k$表示相机的位姿，$u_k$是状态输入，$w_k$则是扰动\n",
    "​\n",
    "第二个是相机的观测方程，即相机在$x_k$对于路标$y_j$，进行一次观测对应像素位置$z_{k,j}$\n",
    "​\n",
    "观测方程为：\n",
    "​\n",
    "$$sz_{k,j}=K\\exp (\\xi ^\\wedge) y_j$$\n",
    "​\n",
    "其中$K$为相机的内参，$s$为像素点到路标的距离。位姿可以由外参$\\exp(\\xi^\\wedge)$表达。\n",
    "\n",
    "考虑噪声项\n",
    "​\n",
    "$$w_k \\sim N(0,R_k), v_k\\sim N(0,Q_{k,j}) $$\n",
    "​\n",
    "在这些噪声的影响下推断$x,y$，即状态估计问题。\n",
    "​\n",
    "对相机$k$时刻的位姿$x_k$，以及$k$时刻路标$j$的位置的状态估计，就是在已知条件$(z,u)$下求$(x,y)$的条件概率分布：\n",
    "​\n",
    "$$P(x,y|z,u)$$\n",
    "​\n",
    "利用贝叶斯公式，有\n",
    "​\n",
    "$$P(x,y|z,u)=\\frac{P(z,u|x,y)P(x,y)}{p(z,u)}\\propto P(z,u|x,y)P(x,y)$$\n",
    "​\n",
    "左侧$P(x,y|z,u)$为后验概率，右侧$P(z,u|x,y)$为似然，$P(x,y)$为先验。如果让乘积最大，则可以找到合适的$(x,y)$。\n",
    "\n",
    "如果不能直接给出运动方程，则没有先验信息，只能求最大似然估计\n",
    "\n",
    "$$P(z,u|x,y)$$\n",
    "\n",
    "即，最大似然估计指的是在现在的位姿下，会可能会产生的观测数据\n",
    "\n",
    "直接求后验比较困难，求最优状态估计，再这个状态先使得后验概率最大化(MAP)：\n",
    "​\n",
    "$$(x,y)^*_{MAP} = \\arg \\max P(x,y|z,u) = \\arg \\max  P(z,u|x,y)P(x,y)$$"
   ]
  },
  {
   "cell_type": "markdown",
   "id": "ebac8b73-b0bc-4720-9490-f86a5d7b1d69",
   "metadata": {},
   "source": [
    "## 最小二乘\n",
    "\n",
    "由于噪声满足$v_{k,j}\\sim N(0,Q_{k,j})$，因此观测数据满足概率分布\n",
    "\n",
    "$$P(z_{j,k}|x_k,y_j)\\sim N(h(y_j,x_k),Q_{k,j})$$\n",
    "\n",
    "取最大值，等价于最小化负对数。\n",
    "\n",
    "高维Gaussian分布形式：\n",
    "\n",
    "$$P(x)=\\frac{1}{\\sqrt{(2\\pi )^N \\det (\\Sigma )}}\\exp\\left( -\\frac{1}{2}(x-\\mu )^T\\Sigma ^{-1}(x-\\mu ) \\right)$$\n",
    "\n",
    "其中$\\Sigma$是变量的协方差矩阵，因此两个相同变量的协方差就是$Q_{k,j}$\n",
    "\n",
    "负对数为\n",
    "\n",
    "$$-\\ln (P(x))=\\frac{1}{2}\\ln \\left( (2\\pi )^N \\det (\\Sigma ) \\right)+\\frac{1}{2}（x-\\mu )^T \\Sigma ^{-1}(x-\\mu ).$$\n",
    "\n",
    "由于运动方程和观测方程中$u,z$相互独立，先选取带入观测方程：\n",
    "\n",
    "$$(x_{k},y_{j})^{*} = \\arg\\min\\left((z_{k,j}-h(x_{k},y_{j}))^{T} Q^{-1}_{k,j}(z_{k,j}-h(x_{k},y_{j}))\\right)$$\n",
    "\n",
    "第一项与$x$无关，可以省略，因此可以最小化Gaussian分布右边的二次型\n",
    "\n",
    "对于完整$P(z,u|x,y)$来说，由于$z,u$相互独立，因此\n",
    "\n",
    "$$P(z,u|x,y)=\\prod \\limits_{k}P(u_{k}|x_{k-1},x_{k})\\prod_{k,j}P(z_{k,j}|x_{k},y_{j})$$\n",
    "\n",
    "定义误差：\n",
    "\n",
    "$$\n",
    "\\begin{aligned}\n",
    "&e_{u,k}=x_{k}-f(x_{k-1},u_{k})\\\\\n",
    "&e_{z,j,k}=z_{k,j}-h(x_{k},y_{j})\n",
    "\\end{aligned}\n",
    "$$\n",
    "\n",
    "取负对数后可以得出\n",
    "\n",
    "$$\\min J(x,y) = \\sum_{k}e_{u,k}^{T}R_{k}^{-1}e_{u,k}+\\sum_{k}\\sum_{j}e_{z,j,k}^{T}Q^{-1}_{k,j}e_{z,j,k}$$"
   ]
  },
  {
   "cell_type": "markdown",
   "id": "e8abdf28-bdca-4107-986b-2321ec7c7fe7",
   "metadata": {},
   "source": [
    "## 非线性最小二乘法\n",
    "\n",
    "对于问题\n",
    "$$\\min \\frac{1}{2}||f(x)||^{2}_{2}$$\n",
    "\n",
    "其极值or鞍点\n",
    "\n",
    "$$\\frac{\\mathbf{d}f}{\\mathbf{d}x}=0$$\n",
    "\n",
    "即寻找增量$\\Delta x_k$使得$||f(x)||^{2}_{2}$达到极小值\n",
    "\n",
    "将目标函数在$x$附近泰勒展开\n",
    "\n",
    "$$||f(x)+ \\Delta x||^{2}_{2}\\approx||f(x)||^{2}_{2}+J(x)\\Delta x \\color{red}{+\\frac{1}{2}\\Delta x^{T}H\\Delta x} $$\n",
    "\n",
    "$J(x)$是雅各比矩阵，$H(x)$是Hassian矩阵，分别表示一阶和二阶梯度方法。"
   ]
  },
  {
   "cell_type": "markdown",
   "id": "a2ae9780-7f85-4987-9023-ff7ab5c7da18",
   "metadata": {},
   "source": [
    "- 一阶\n",
    "\n",
    "$$\\Delta x^*=\\arg\\min\\left(||f(x)||^{2}_{2}+J(x)\\Delta x\\right)$$\n",
    "\n",
    "最小值的增量解：\n",
    "\n",
    "$$\\Delta x^{*}=-J^{T}(x)$$\n"
   ]
  },
  {
   "cell_type": "markdown",
   "id": "d4103ee4-2822-4c4b-8aee-965d98bbe2f5",
   "metadata": {},
   "source": [
    "\n",
    "- 二阶\n",
    "\n",
    "$$\\Delta x^*=\\arg\\min\\left( ||f(x)||^{2}_{2}+J(x)\\Delta x +\\frac{1}{2}\\Delta x^{T}H\\Delta x \\right)$$\n",
    "\n",
    "最小值的增量解：\n",
    "\n",
    "$$H\\Delta x = -J^{T}$$"
   ]
  },
  {
   "cell_type": "markdown",
   "id": "371f5e51-908c-41b1-b719-85234e87b02c",
   "metadata": {},
   "source": [
    "- 高斯牛顿法\n",
    "\n"
   ]
  },
  {
   "cell_type": "markdown",
   "id": "4068aa3c-cd3e-4728-9dfb-0858729e34d5",
   "metadata": {},
   "source": [
    "- 列文伯格-马夸尔特法"
   ]
  },
  {
   "cell_type": "code",
   "execution_count": null,
   "id": "188d8120-0c1f-497b-83cb-4f1b344031e9",
   "metadata": {},
   "outputs": [],
   "source": []
  }
 ],
 "metadata": {
  "kernelspec": {
   "display_name": "Python 3 (ipykernel)",
   "language": "python",
   "name": "python3"
  },
  "language_info": {
   "codemirror_mode": {
    "name": "ipython",
    "version": 3
   },
   "file_extension": ".py",
   "mimetype": "text/x-python",
   "name": "python",
   "nbconvert_exporter": "python",
   "pygments_lexer": "ipython3",
   "version": "3.9.12"
  },
  "toc-showcode": false,
  "toc-showmarkdowntxt": false
 },
 "nbformat": 4,
 "nbformat_minor": 5
}
