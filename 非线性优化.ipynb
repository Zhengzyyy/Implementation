{
 "cells": [
  {
   "cell_type": "markdown",
   "id": "ca122e58-3511-4ad3-9fc9-876718562943",
   "metadata": {},
   "source": [
    "# 非线性优化"
   ]
  },
  {
   "cell_type": "markdown",
   "id": "8375f200-e26a-4a50-80b3-92412b734ddf",
   "metadata": {},
   "source": [
    "## 状态估计问题"
   ]
  },
  {
   "cell_type": "markdown",
   "id": "1f7d1c23-5cd1-4417-a9ab-ff72704b3b45",
   "metadata": {},
   "source": [
    "### 最大后验与最大似然\n",
    "\n",
    "SLAM模型由以下方程构成：\n",
    "\n",
    "$$\n",
    "\\left\\{\n",
    "\\begin{aligned}\n",
    "&x_k=f(x_{k-1},u_k)+w_k,\\\\\n",
    "&z_{k,j}=h(y_j,x_k)+v_{k,j}.\n",
    "\\end{aligned}\n",
    "\\right.\n",
    "$$\n",
    "\n",
    "$x_k$表示相机的位姿，$u_k$是状态输入，$w_k$则是扰动\n",
    "\n",
    "第二个是相机的观测方程，即相机在$x_k$对于路标$y_j$，进行一次观测对应像素位置$z_{k,j}$\n",
    "\n",
    "观测方程为：\n",
    "\n",
    "$$sz_{k,j}=K\\exp (\\xi ^\\wedge) y_j$$\n",
    "\n",
    "其中$K$为相机的内参，$s$为像素点到路标的距离。\n",
    "\n",
    "考虑噪声项\n",
    "\n",
    "$$w_k \\sim N(0,R_k), v_k\\sim N(0,Q_{k,j}) $$\n",
    "\n",
    "在这些噪声的影响下推断$x,y$，即状态估计问题。本文利用非线性优化方法，把待估计的变量放到一个状态变量中，即：\n",
    "\n",
    "$$x=\\{x_1, \\cdot ,x_N, y_1, \\cdot ,y_N \\}$$\n",
    "\n",
    "对机器人的状态估计，就是在条件$(z,u)$下求$x$的条件概率分布：\n",
    "\n",
    "$$P(x|z,u)$$\n",
    "\n",
    "利用贝叶斯公式，有\n",
    "\n",
    "$$P(x|z)=\\frac{P(z|x)P(x)}{p(x)}=\\propto P(z|x)P(x)$$\n",
    "\n",
    "左侧$P(x|z)$为后验概率，右侧$P(z|x)$为似然，$P(x)$为先验，直接求后验比较困难，求最优状态估计，再这个状态先使得后验概率最大化(MAP)：\n",
    "\n",
    "$$x^*_{MAP} = \\arg \\max P(x|z) = \\arg \\max  P(z|x)P(x)$$\n",
    "\n",
    "$x$的最大似然估计(MLE)为\n",
    "\n",
    "$$x^*_{MLE}=\\arg \\max P(z|x)$$\n",
    "\n",
    "即，最大似然估计指的是在现在的位姿下，会可能会产生的观测数据"
   ]
  }
 ],
 "metadata": {
  "kernelspec": {
   "display_name": "Python 3 (ipykernel)",
   "language": "python",
   "name": "python3"
  },
  "language_info": {
   "codemirror_mode": {
    "name": "ipython",
    "version": 3
   },
   "file_extension": ".py",
   "mimetype": "text/x-python",
   "name": "python",
   "nbconvert_exporter": "python",
   "pygments_lexer": "ipython3",
   "version": "3.9.12"
  },
  "toc-showcode": false,
  "toc-showmarkdowntxt": false
 },
 "nbformat": 4,
 "nbformat_minor": 5
}
