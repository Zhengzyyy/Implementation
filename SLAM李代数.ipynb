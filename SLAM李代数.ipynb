{
 "cells": [
  {
   "cell_type": "markdown",
   "id": "0f2ecded",
   "metadata": {},
   "source": [
    "# 李代数基本运算\n",
    "\n",
    "- python                    Python 3.9.12\n",
    "- scipy                     1.10.0\n",
    "- numpy                     1.23.5"
   ]
  },
  {
   "cell_type": "code",
   "execution_count": null,
   "id": "4798a880",
   "metadata": {},
   "outputs": [],
   "source": [
    "import numpy as np\n",
    "from scipy.linalg import expm, logm\n",
    "from numpy import pi, sin, cos, tan, arccos, trace\n",
    "from numpy.linalg import norm, det, inv\n",
    "\n",
    "np.set_printoptions(precision=3, suppress=True)\n",
    "deg = pi / 180"
   ]
  },
  {
   "cell_type": "markdown",
   "id": "2c364641",
   "metadata": {},
   "source": [
    "- 函数1. 在$\\mathfrak{so}(3)$上的李代数向量转换3*3的为反对称矩阵:"
   ]
  },
  {
   "cell_type": "code",
   "execution_count": null,
   "id": "31bee6cf",
   "metadata": {},
   "outputs": [],
   "source": [
    "def so3_v2m(vec):\n",
    "    return np.mat([\n",
    "        [0, -vec[0, 2], vec[0, 1]],\n",
    "        [vec[0, 2], 0, -vec[0, 0]],\n",
    "        [-vec[0, 1], vec[0, 0], 0]\n",
    "    ])\n"
   ]
  },
  {
   "cell_type": "code",
   "execution_count": null,
   "id": "2727d2ab-3829-40bf-a3b7-6ca1747efcf3",
   "metadata": {},
   "outputs": [],
   "source": [
    "# test\n",
    "vec = np.mat([3,4,5])\n",
    "print(f'反对称矩阵：\\n{so3_v2m(vec)}')"
   ]
  },
  {
   "cell_type": "markdown",
   "id": "3762df36",
   "metadata": {},
   "source": [
    "- 函数2. 把$SO(3)$上的特殊正交群（旋转矩阵）转换为三位向量:"
   ]
  },
  {
   "cell_type": "code",
   "execution_count": null,
   "id": "d7f1e5f1",
   "metadata": {},
   "outputs": [],
   "source": [
    "def SO3_m2v(M):\n",
    "    return np.mat([M[2,1], M[0,2], M[1,0]])"
   ]
  },
  {
   "cell_type": "code",
   "execution_count": null,
   "id": "c7f6e198-204e-4868-a888-c469d4c17026",
   "metadata": {},
   "outputs": [],
   "source": [
    "# test\n",
    "m = np.mat([[ 0, -5,  4],\n",
    " [ 5,  0, -3],\n",
    " [-4,  3,  0]])\n",
    "print(f'向量为：\\n {SO3_m2v(m)}')"
   ]
  },
  {
   "cell_type": "markdown",
   "id": "cf21a2e3",
   "metadata": {},
   "source": [
    "- 函数3. 在$\\mathfrak{se}(3)$上的6维李代数向量转换4*4的矩阵表示形式:"
   ]
  },
  {
   "cell_type": "code",
   "execution_count": null,
   "id": "7b0063ee",
   "metadata": {},
   "outputs": [],
   "source": [
    "def se3_v2m(vec):\n",
    "    return np.mat([\n",
    "        [0, -vec[0, 2], vec[0, 1], vec[0, 3]],\n",
    "        [vec[0, 2], 0, -vec[0, 0], vec[0, 4]],\n",
    "        [-vec[0, 1], vec[0, 0], 0, vec[0, 5]],\n",
    "        [0, 0, 0, 0]\n",
    "    ])"
   ]
  },
  {
   "cell_type": "code",
   "execution_count": null,
   "id": "329a7447-a659-403f-8776-8c7c485036b4",
   "metadata": {
    "tags": []
   },
   "outputs": [],
   "source": [
    "# test\n",
    "s = np.mat([0.6, 0.3, 0.7416, 4, 5, 6])\n",
    "theta = pi / 6\n",
    "sv = theta * s\n",
    "print(f'向量sv是：\\n{sv}')\n",
    "print(f'4*4矩阵：\\n{se3_v2m(sv)}')"
   ]
  },
  {
   "cell_type": "markdown",
   "id": "ceebeef1",
   "metadata": {},
   "source": [
    "- 函数4. 把$SE(3)$上的特殊正交群（旋转矩阵）转换为向量:"
   ]
  },
  {
   "cell_type": "code",
   "execution_count": null,
   "id": "66f8ef29",
   "metadata": {},
   "outputs": [],
   "source": [
    "def SE3_m2v(M):\n",
    "    return np.mat([M[2, 1], M[0, 2], M[1, 0], M[0, 3], M[1, 3], M[2, 3]])"
   ]
  },
  {
   "cell_type": "code",
   "execution_count": null,
   "id": "584ba98c-02f6-4c46-9146-57f88048d502",
   "metadata": {},
   "outputs": [],
   "source": [
    "# test\n",
    "m = np.mat([[ 0.,    -0.388,  0.157,  2.094],\n",
    " [ 0.388,  0.,    -0.314,  2.618],\n",
    " [-0.157,  0.314,  0.,     3.142],\n",
    " [ 0.,     0.,     0.,     0.   ]])\n",
    "print(f'向量为：\\n {SE3_m2v(m)}')"
   ]
  },
  {
   "cell_type": "markdown",
   "id": "e767d98c",
   "metadata": {},
   "source": [
    "- 函数5. 通过Tylor展开式化简，将李代数形式的旋转转化为矩阵形式的，即\n",
    "$$\\mathfrak{so}(3) \\Rightarrow SO(3)$$\n",
    "\n",
    "$$\\exp(\\phi^\\wedge)=\\cos\\theta I+(1-\\cos\\theta)aa^T+\\sin\\theta a^\\wedge$$"
   ]
  },
  {
   "cell_type": "code",
   "execution_count": null,
   "id": "38e783c7",
   "metadata": {},
   "outputs": [],
   "source": [
    "def so3exp(v):\n",
    "    I = np.mat(np.eye(3))\n",
    "    theta = norm(v)\n",
    "    n = np.mat(v / theta)\n",
    "    return cos(theta) * I + (1 - cos(theta)) * n.transpose() * n + sin(theta) * so3_v2m(n)"
   ]
  },
  {
   "cell_type": "code",
   "execution_count": null,
   "id": "5a9e1d70-7972-4641-967d-874552ae7e16",
   "metadata": {},
   "outputs": [],
   "source": [
    "# test\n",
    "s = np.mat([0.6, 0.3, 0.7416])\n",
    "theta = pi/6\n",
    "sv = theta * s\n",
    "exp = so3exp(sv)\n",
    "expp = expm(so3_v2m(sv))\n",
    "print(f\"so3的李代数=\\n{sv}\")\n",
    "print(f\"指数映射得出=\\n{exp}\")\n",
    "print(f\"expm计算得出=\\n{expp}\")"
   ]
  },
  {
   "cell_type": "markdown",
   "id": "ef66efd7",
   "metadata": {},
   "source": [
    "- 函数6. 在$\\mathfrak{so}(3)$上一种李括号的定义"
   ]
  },
  {
   "cell_type": "code",
   "execution_count": null,
   "id": "76fa566a",
   "metadata": {},
   "outputs": [],
   "source": [
    "def LieBracket_so3(V1, V2):\n",
    "    hatV1 = so3_v2m(V1)\n",
    "    hatV2 = so3_v2m(V2)\n",
    "    return SO3_m2v(hatV1 * hatV2 - hatV2 * hatV1)"
   ]
  },
  {
   "cell_type": "code",
   "execution_count": null,
   "id": "37ee80cb-9c6d-4586-aaa3-8286052a0c28",
   "metadata": {},
   "outputs": [],
   "source": [
    "# test\n",
    "v1 = np.mat([1,2,3])\n",
    "v2 = np.mat([2,3,4])\n",
    "print(f'李括号运算结果为：\\n {LieBracket_so3(v1,v2)}')"
   ]
  },
  {
   "cell_type": "markdown",
   "id": "c4695aff",
   "metadata": {},
   "source": [
    "- 函数7. 在$\\mathfrak{se}(3)$上李括号的定义"
   ]
  },
  {
   "cell_type": "code",
   "execution_count": null,
   "id": "d43b9dcc",
   "metadata": {},
   "outputs": [],
   "source": [
    "def LieBracket_se3(V1, V2):\n",
    "    hatV1 = se3_v2m(V1)\n",
    "    hatV2 = se3_v2m(V2)\n",
    "    return SE3_m2v(hatV1 * hatV2 - hatV2 * hatV1)"
   ]
  },
  {
   "cell_type": "code",
   "execution_count": null,
   "id": "1c169728-6338-4286-9a3b-f50dee8e27aa",
   "metadata": {},
   "outputs": [],
   "source": [
    "# test\n",
    "v1 = np.mat([1,2,3,7,8,9])\n",
    "v2 = np.mat([2,3,4,6.8,7.9,8.1])\n",
    "print(f'李括号运算结果为：\\n {LieBracket_se3(v1,v2)}')"
   ]
  },
  {
   "cell_type": "markdown",
   "id": "816dccdf",
   "metadata": {},
   "source": [
    "- 函数8. 将李代数形式的位姿转化为矩阵形式的，即\n",
    "$$\\mathfrak{se}(3) \\Rightarrow SE(3)$$"
   ]
  },
  {
   "cell_type": "code",
   "execution_count": null,
   "id": "2e4138ef",
   "metadata": {},
   "outputs": [],
   "source": [
    "def se3exp(v):\n",
    "    I = np.mat(np.eye(3))\n",
    "    theta = norm(v[0, :3])\n",
    "    n = np.mat(v[0, :3] / theta)\n",
    "    J = sin(theta) / theta * I + (1 - sin(theta) / theta) * n.transpose() * n + (1 - cos(theta)) / theta * so3_v2m(n)\n",
    "    R = so3exp(v[0, :3])\n",
    "    ret = np.hstack((R, J * v[0, 3:6].transpose()))\n",
    "    ret = np.vstack((ret, np.mat([[0, 0, 0, 1]])))\n",
    "    return ret"
   ]
  },
  {
   "cell_type": "code",
   "execution_count": null,
   "id": "0e29412b-f73a-462b-903e-aa95acda0de8",
   "metadata": {},
   "outputs": [],
   "source": [
    "# test\n",
    "s = np.mat([0.6, 0.3, 0.7416, 4, 5, 6])\n",
    "theta = pi / 6\n",
    "sv = theta * s\n",
    "exp = se3exp(sv)\n",
    "expp = expm(se3_v2m(sv))\n",
    "print(f\"so3的李代数=\\n{sv}\")\n",
    "print(f\"指数映射得出=\\n{exp}\")\n",
    "print(f\"expm计算得出=\\n{expp}\")"
   ]
  },
  {
   "cell_type": "markdown",
   "id": "84b3a942",
   "metadata": {},
   "source": [
    "- 函数9. M为3*3矩阵，解秩为2的齐次线性方程：\n",
    "$$Mn=0$$\n",
    "的一个单位解，指向平面$x+y+z=0$向$\\sqrt{3}(1,1,1)$方向\n",
    "\n",
    "p.s.因为对于旋转轴来说，三维空间中只有一个自由度，因此秩为2"
   ]
  },
  {
   "cell_type": "code",
   "execution_count": null,
   "id": "4a24712e",
   "metadata": {},
   "outputs": [],
   "source": [
    "def solveHomoEqu(M):\n",
    "    A = M[:2, :2]\n",
    "    B = M[2, :2]\n",
    "    D = det(A)\n",
    "    D1 = det(np.vstack((B, A[1, :]))) / D\n",
    "    D2 = det(np.vstack((A[0, :], B))) / D\n",
    "    D3 = (-M[0, 0] * D1 - M[0, 1] * D2) / M[0, 2]\n",
    "    ret = np.mat([[D1, D2, D3]])\n",
    "    if D1 + D2 + D3 < 0:\n",
    "        ret = -ret;\n",
    "    ret = ret / norm(ret)\n",
    "    return ret"
   ]
  },
  {
   "cell_type": "code",
   "execution_count": null,
   "id": "d872b39a-2e5a-4285-aad4-1ca004167c51",
   "metadata": {},
   "outputs": [],
   "source": [
    "# test\n",
    "R = np.mat([[ 0.914, -0.347,  0.21 ],\n",
    "            [ 0.395,  0.878, -0.27 ],\n",
    "            [-0.09,   0.330,  0.94 ]])\n",
    "ans = solveHomoEqu(R-np.eye(3))\n",
    "print(f'answer is: {ans}')"
   ]
  },
  {
   "cell_type": "markdown",
   "id": "4ff72a59",
   "metadata": {},
   "source": [
    "- 函数10. 将旋转矩阵形式转化为李代数形式的，即\n",
    "\n",
    "$$SO(3) \\Rightarrow \\mathfrak{so}(3)$$\n",
    "\n",
    "$$\\theta=\\frac{\\arccos(trace(R)-1)}{2}$$\n",
    "\n",
    "且转轴向量满足旋转不变性\n",
    "\n",
    "$$Rn=n$$"
   ]
  },
  {
   "cell_type": "code",
   "execution_count": null,
   "id": "038912bd",
   "metadata": {},
   "outputs": [],
   "source": [
    "def SO3log(R):\n",
    "    theta = arccos((trace(R) - 1) / 2)\n",
    "    ClamMat = R - np.eye(3)\n",
    "    n = solveHomoEqu(ClamMat)\n",
    "    return theta * n"
   ]
  },
  {
   "cell_type": "code",
   "execution_count": null,
   "id": "c8bf11ac-55a9-4fed-afa2-31e341df7d7f",
   "metadata": {},
   "outputs": [],
   "source": [
    "# test\n",
    "R = np.mat([[ 0.914, -0.347,  0.21 ],\n",
    "            [ 0.395,  0.878, -0.27 ],\n",
    "            [-0.09,   0.330,  0.94 ]])\n",
    "sv = SO3log(R)\n",
    "print(f'将特殊正交群转换为李代数形式：v={sv}')"
   ]
  },
  {
   "cell_type": "markdown",
   "id": "b31db12e",
   "metadata": {},
   "source": [
    "- 函数11. 将位姿矩阵形式转化为李代数形式的，即\n",
    "$$SE(3) \\Rightarrow \\mathfrak{se}(3)$$"
   ]
  },
  {
   "cell_type": "code",
   "execution_count": null,
   "id": "9278ca2c",
   "metadata": {},
   "outputs": [],
   "source": [
    "def SE3log(T):\n",
    "    R = T[:3, :3]\n",
    "    theta = arccos((trace(R) - 1) / 2)\n",
    "    ClamMat = R - np.eye(3)\n",
    "    n = solveHomoEqu(ClamMat)\n",
    "    I = np.mat(np.eye(3))\n",
    "    J = sin(theta) / theta * I + (1 - sin(theta) / theta) * n.transpose() * n + (1 - cos(theta)) / theta * so3_v2m(n)\n",
    "    rho = inv(J) * T[0:3, 3]\n",
    "    return np.hstack((theta*n, rho.transpose()))"
   ]
  },
  {
   "cell_type": "code",
   "execution_count": null,
   "id": "36afef6c-92f9-4fe0-86d6-10b151249821",
   "metadata": {},
   "outputs": [],
   "source": [
    "# test\n",
    "T = np.mat([ [ 0.914, -0.347,  0.21,   1.863],\n",
    "             [ 0.395,  0.878, -0.27,   2.474],\n",
    "             [-0.09,   0.33,   0.94,   3.387],\n",
    "             [ 0.,     0.,     0.,     1.   ]])\n",
    "sv = SE3log(T)\n",
    "print(f'将特殊正交群转换为李代数形式：v={sv}')"
   ]
  },
  {
   "cell_type": "markdown",
   "id": "6b375a3f",
   "metadata": {
    "tags": []
   },
   "source": [
    "# 李代数求导与扰动模型"
   ]
  },
  {
   "cell_type": "markdown",
   "id": "a1b42734",
   "metadata": {},
   "source": [
    "对于$SO(3)$中的两个矩阵乘法，得出的结果对于李代数的改变是什么？\n",
    "\n",
    "e.g.\n",
    "\n",
    "对于$A,B\\in \\mathfrak{so}(3)$，有\n",
    "\n",
    "$$\\ln(\\exp(A)\\exp(B))^\\vee\\in\\mathfrak{so}(3)$$\n",
    "\n",
    "然而\n",
    "\n",
    "$$\\ln(\\exp(A)\\exp(B)) = A+B+\\frac{1}{2}[A,B]+\\frac{1}{12}[A,[A,B]]-\\frac{1}{12}[B,[A,B]]+... $$\n",
    "\n",
    "当A或B为小量时，二次以上项都会被忽略掉，此时，BCH近似线性表达为：\n",
    "\n",
    "$$\n",
    "    \\ln(\\exp(\\phi_1^\\wedge)\\exp(\\phi_2^\\wedge))^\\vee=\\left\\{\n",
    "    \\begin{aligned}\n",
    "    &J_l(\\phi_2)^{-1}\\phi_1+\\phi_2\\quad当\\phi_1为小量时\\\\\n",
    "    &J_r(\\phi_1)^{-1}\\phi_2+\\phi_1\\quad当\\phi_2为小量时\n",
    "    \\end{aligned}\n",
    "    \\right. \n",
    "$$\n",
    "    \n",
    "其中左乘雅各比$J_l$为 (<font color=red>怎么推导出来的？</font>)\n",
    "\n",
    "$$J_l=\\frac{sin\\theta}{\\theta}I+(1-\\frac{sin\\theta}{\\theta})aa^T+\\frac{1-cos\\theta}{\\theta}a^\\wedge$$\n",
    "\n",
    "$$J_l^{-1}=\\frac{\\theta}{2}cot\\frac{\\theta}{2}I+(1-\\frac{\\theta}{2}cot\\frac{\\theta}{2})aa^T-\\frac{\\theta}{2}a^\\wedge$$\n",
    "\n",
    "且\n",
    "\n",
    "$$J_r(\\phi)=J_l(-\\phi)$$\n",
    "\n",
    "对于某个旋转$R$的李代数$\\phi$，左乘旋转微元$\\Delta R$，微元对应的李代数为$\\Delta \\phi$。李群上旋转量经过微元的作用为$\\Delta R\\cdot R$，其李代数上根据BCH近似，对应的\n",
    "\n",
    "$$J_l^{-1}(\\phi)\\Delta\\phi+\\phi$$\n",
    "\n",
    "即，李群上的乘法变为李代数上的加法\n",
    "\n",
    "$$\\exp(\\Delta\\phi^\\wedge)\\exp(\\phi^\\wedge) = \\exp((J_l^{-1}(\\phi)\\Delta\\phi+\\phi)^\\wedge)$$\n",
    "\n",
    "反之，李代数上的加法会近似为李群上的乘法（将上式用$\\Delta\\phi$替换$J_l^{-1}(\\phi)\\Delta\\phi$）:\n",
    "\n",
    "$$\\exp((\\phi+\\Delta\\phi)^\\wedge) = \\exp((J_l(\\phi)\\Delta\\phi)^\\wedge)\\exp(\\phi^\\wedge)=\\exp(\\phi^\\wedge)\\exp((J_r(\\phi)\\Delta\\phi)^\\wedge)$$\n",
    "\n",
    "同理，$SE(3)$上的类似BCH近似公式\n",
    "\n",
    "$$\\exp(\\Delta\\xi^\\wedge)\\exp(\\xi^\\wedge) = \\exp((\\mathcal{J}_l^{-1}(\\xi)\\Delta\\xi+\\xi)^\\wedge)$$\n",
    "\n",
    "$$\\exp(\\xi^\\wedge)\\exp(\\Delta\\xi^\\wedge) = \\exp((\\mathcal{J}_r^{-1}(\\xi)\\Delta\\xi+\\xi)^\\wedge)$$\n",
    "\n",
    "$\\mathcal{J}_l$复杂，不写实际形式？"
   ]
  },
  {
   "cell_type": "markdown",
   "id": "6e1ffb6b-aea6-4990-9d27-c8f9b334748f",
   "metadata": {
    "tags": []
   },
   "source": [
    "## SO3上李代数的求导"
   ]
  },
  {
   "cell_type": "markdown",
   "id": "5e384bc1-7053-49f3-bcac-f1533f088a11",
   "metadata": {},
   "source": [
    "### 李代数求导\n",
    "对于$SO(3)$的情况，对于一个空间点旋转，得到$Rp$。计算旋转后的点对旋转的导数：\n",
    "\n",
    "$$\\frac{\\partial(Rp)}{\\partial R}\\qquad (不严谨的)$$\n",
    "\n",
    "设$R$对应的李代数为$\\phi$，转为计算\n",
    "\n",
    "$$\n",
    "\\begin{aligned}\n",
    "\\frac{\\partial(\\exp(\\phi^\\wedge)p)}{\\partial \\phi}\n",
    "&=\\lim\\limits_{\\delta\\phi\\to0} \\frac{\\exp((\\phi+\\delta\\phi)^\\wedge)p-\\exp(\\phi^\\wedge)p}{\\delta\\phi}\\\\\n",
    "&=\\lim\\limits_{\\delta\\phi\\to0} \\frac{\\exp((J_l(\\phi)\\delta\\phi)^\\wedge)\\exp(\\phi^\\wedge)p-\\exp(\\phi^\\wedge)p}{\\delta\\phi}\\\\\n",
    "\\end{aligned}\n",
    "$$\n",
    "\n",
    "又由于$\\exp((J_l(\\phi)\\delta\\phi)^\\wedge)=I+(J_l(\\phi)\\delta\\phi)^\\wedge+\\frac{1}{2}((J_l(\\phi)\\delta\\phi)^\\wedge)^2+\\cdots$取线性部分近似，有\n",
    "\n",
    "$$\n",
    "\\begin{aligned}\n",
    "&\\approx\\lim\\limits_{\\delta\\phi\\to0} \\frac{(I+(J_l(\\phi)\\delta\\phi)^\\wedge)\\exp(\\phi^\\wedge)p-\\exp(\\phi^\\wedge)p}{\\delta\\phi}\\\\\n",
    "&=\\lim\\limits_{\\delta\\phi\\to0}\\frac{(J_l(\\phi)\\delta\\phi)^\\wedge\\exp(\\phi^\\wedge)p}{\\delta\\phi}\\\\\n",
    "&=\\lim\\limits_{\\delta\\phi\\to0}\\frac{-(\\exp(\\phi^\\wedge)p)^\\wedge(J_l(\\phi)\\delta\\phi)}{\\delta\\phi} (property\\ of\\ cross-product\\ exchange)\\\\\n",
    "&=-(Rp)^\\wedge J_l.\n",
    "\\end{aligned}\n",
    "$$"
   ]
  },
  {
   "cell_type": "markdown",
   "id": "c6225ac6-acc0-4ada-90e8-c09999b77d20",
   "metadata": {},
   "source": [
    "### 扰动模型（左）\n",
    "\n",
    "相当于对矩阵$R$左乘一个微扰$\\delta R$，两者李代数分别为$\\phi,\\delta\\phi$，有\n",
    "\n",
    "$$\n",
    "\\begin{aligned}\n",
    "\\frac{\\partial(\\exp(\\phi^\\wedge)p)}{\\partial \\phi}\n",
    "&=\\lim\\limits_{\\delta\\phi\\to0} \\frac{\\exp(\\delta\\phi^\\wedge)\\exp(\\phi^\\wedge)p-\\exp(\\phi^\\wedge)p}{\\delta\\phi}\\\\\n",
    "&\\approx\\lim\\limits_{\\delta\\phi\\to0} \\frac{(I+\\delta\\phi^\\wedge)\\exp(\\phi^\\wedge)p-\\exp(\\phi^\\wedge)p}{\\delta\\phi}\\\\\n",
    "&=\\lim\\limits_{\\delta\\phi\\to0}\\frac{\\delta\\phi^\\wedge\\exp(\\phi^\\wedge)p}{\\delta\\phi}\\\\\n",
    "&=\\lim\\limits_{\\delta\\phi\\to0}\\frac{-(\\exp(\\phi^\\wedge)p)^\\wedge\\delta\\phi}{\\delta\\phi}\\\\\n",
    "&=-(Rp)^\\wedge.\n",
    "\\end{aligned}\n",
    "$$\n",
    "\n",
    "计算更简单，不用算雅各比了！"
   ]
  },
  {
   "cell_type": "markdown",
   "id": "194ae235-5357-48cf-8ad2-9b5261a923b7",
   "metadata": {},
   "source": [
    "### $SE(3)$上的李代数求导，左扰动\n",
    "\n",
    "空间点$p$,经过变换$T$,李代数$\\xi$,扰动$\\Delta T$,李代数$\\delta\\xi$.\n",
    "\n",
    "$$\n",
    "\\begin{aligned}\n",
    "\\frac{\\partial(Tp)}{\\partial\\delta\\xi}\n",
    "&\\approx\\lim\\limits_{\\delta\\xi\\to0} \\frac{\\delta\\xi^\\wedge\\exp(\\xi^\\wedge)p}{\\delta\\xi}\\\\\n",
    "&=\\lim\\limits_{\\delta\\xi\\to0} \\frac{\\begin{bmatrix}\\delta\\phi^\\wedge&\\delta\\rho\\\\0^T&0\\end{bmatrix}\\begin{bmatrix}Rp+t\\\\1\\end{bmatrix}}{\\delta\\xi}\\\\\n",
    "&=\\lim\\limits_{\\delta\\xi\\to0} \\frac{\\begin{bmatrix}\\delta\\phi^\\wedge(Rp+t)+\\delta\\rho\\\\0\\end{bmatrix}}{\\delta\\xi}\\\\\n",
    "\\end{aligned}\n",
    "$$\n",
    "\n",
    "矩阵这里的除法意义即存在$4\\times6$的矩阵$M$满足\n",
    "\n",
    "$$\\begin{bmatrix}\\delta\\phi^\\wedge(Rp+t)+\\delta\\rho\\\\0\\end{bmatrix}=M\\begin{bmatrix}\\delta\\rho \\\\ \\delta\\phi\\end{bmatrix}$$\n",
    "\n",
    "因此利用分块矩阵设未知数，可以求出$M$\n",
    "\n",
    "$$\\frac{\\partial(Tp)}{\\partial\\delta\\xi} = \\begin{bmatrix}I & -(Rp+t)^\\wedge \\\\ 0^T & 0^T\\end{bmatrix}\\triangleq(Tp)^\\odot$$\n"
   ]
  }
 ],
 "metadata": {
  "kernelspec": {
   "display_name": "Python 3 (ipykernel)",
   "language": "python",
   "name": "python3"
  },
  "language_info": {
   "codemirror_mode": {
    "name": "ipython",
    "version": 3
   },
   "file_extension": ".py",
   "mimetype": "text/x-python",
   "name": "python",
   "nbconvert_exporter": "python",
   "pygments_lexer": "ipython3",
   "version": "3.9.12"
  },
  "toc-autonumbering": true,
  "toc-showcode": false,
  "toc-showmarkdowntxt": false,
  "vscode": {
   "interpreter": {
    "hash": "2bc35793044754c264fbf4c59ab75cdd2c19744a927909e84eebbdd5cc6ace8f"
   }
  }
 },
 "nbformat": 4,
 "nbformat_minor": 5
}
